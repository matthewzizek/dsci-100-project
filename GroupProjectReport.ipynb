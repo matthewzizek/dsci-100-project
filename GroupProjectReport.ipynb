{
 "cells": [
  {
   "cell_type": "markdown",
   "id": "c2f6f916-8183-4abe-8bdc-3e1bcce9cbdb",
   "metadata": {},
   "source": [
    "## Using a Dataset to Investigate the Relationship Between High Cholesterol Levels and Risk of Heart Disease"
   ]
  },
  {
   "cell_type": "markdown",
   "id": "90c9fff7-3192-4216-bc13-9c0c173a9524",
   "metadata": {},
   "source": [
    "### Adam Trainer, Matthew Zizek, Phoebe Qiu, Rikki Ye"
   ]
  },
  {
   "cell_type": "markdown",
   "id": "1391f22e-d6dc-4e4b-9b8a-74abd9744149",
   "metadata": {},
   "source": [
    "## Introduction\n",
    "Prior research has shown that several risk factors increase the prevalence of heart attacks and heart diseases, including age and cholesterol levels above 200 mg/dL (Karthick et al., 2022). Therefore, we will be using data from a valid data set to answer the following predictive question; “Can age and cholesterol levels be used to predict if an individual has a heat disease”. The UC Irvine (UCI) Machine Learning Repository contains the Cleveland heart disease dataset that will be used to answer our question (Janosi et al., 1988). The dataset is used by machine learning researchers to analyze algorithms by answering a variety of predictive questions including predicting heart diseases for patients using many health risk predictors."
   ]
  },
  {
   "cell_type": "markdown",
   "id": "66b1e9d9-f8df-48f7-9111-a90a44ef2288",
   "metadata": {},
   "source": [
    "## Preliminary exploratory data analysis"
   ]
  },
  {
   "cell_type": "code",
   "execution_count": 1,
   "id": "48650dac-1bb6-48d2-b20f-ded8d40a3dde",
   "metadata": {},
   "outputs": [],
   "source": [
    "library(shiny)"
   ]
  },
  {
   "cell_type": "code",
   "execution_count": 2,
   "id": "eea3eb0e-d60c-4166-a38c-90469ccca9e6",
   "metadata": {},
   "outputs": [
    {
     "name": "stderr",
     "output_type": "stream",
     "text": [
      "Warning message:\n",
      "“package ‘ggplot2’ was built under R version 4.3.2”\n",
      "── \u001b[1mAttaching core tidyverse packages\u001b[22m ──────────────────────── tidyverse 2.0.0 ──\n",
      "\u001b[32m✔\u001b[39m \u001b[34mdplyr    \u001b[39m 1.1.3     \u001b[32m✔\u001b[39m \u001b[34mreadr    \u001b[39m 2.1.4\n",
      "\u001b[32m✔\u001b[39m \u001b[34mforcats  \u001b[39m 1.0.0     \u001b[32m✔\u001b[39m \u001b[34mstringr  \u001b[39m 1.5.0\n",
      "\u001b[32m✔\u001b[39m \u001b[34mggplot2  \u001b[39m 3.5.0     \u001b[32m✔\u001b[39m \u001b[34mtibble   \u001b[39m 3.2.1\n",
      "\u001b[32m✔\u001b[39m \u001b[34mlubridate\u001b[39m 1.9.2     \u001b[32m✔\u001b[39m \u001b[34mtidyr    \u001b[39m 1.3.0\n",
      "\u001b[32m✔\u001b[39m \u001b[34mpurrr    \u001b[39m 1.0.2     \n",
      "── \u001b[1mConflicts\u001b[22m ────────────────────────────────────────── tidyverse_conflicts() ──\n",
      "\u001b[31m✖\u001b[39m \u001b[34mdplyr\u001b[39m::\u001b[32mfilter()\u001b[39m masks \u001b[34mstats\u001b[39m::filter()\n",
      "\u001b[31m✖\u001b[39m \u001b[34mdplyr\u001b[39m::\u001b[32mlag()\u001b[39m    masks \u001b[34mstats\u001b[39m::lag()\n",
      "\u001b[36mℹ\u001b[39m Use the conflicted package (\u001b[3m\u001b[34m<http://conflicted.r-lib.org/>\u001b[39m\u001b[23m) to force all conflicts to become errors\n",
      "── \u001b[1mAttaching packages\u001b[22m ────────────────────────────────────── tidymodels 1.1.1 ──\n",
      "\n",
      "\u001b[32m✔\u001b[39m \u001b[34mbroom       \u001b[39m 1.0.5     \u001b[32m✔\u001b[39m \u001b[34mrsample     \u001b[39m 1.2.0\n",
      "\u001b[32m✔\u001b[39m \u001b[34mdials       \u001b[39m 1.2.0     \u001b[32m✔\u001b[39m \u001b[34mtune        \u001b[39m 1.1.2\n",
      "\u001b[32m✔\u001b[39m \u001b[34minfer       \u001b[39m 1.0.5     \u001b[32m✔\u001b[39m \u001b[34mworkflows   \u001b[39m 1.1.3\n",
      "\u001b[32m✔\u001b[39m \u001b[34mmodeldata   \u001b[39m 1.2.0     \u001b[32m✔\u001b[39m \u001b[34mworkflowsets\u001b[39m 1.0.1\n",
      "\u001b[32m✔\u001b[39m \u001b[34mparsnip     \u001b[39m 1.1.1     \u001b[32m✔\u001b[39m \u001b[34myardstick   \u001b[39m 1.2.0\n",
      "\u001b[32m✔\u001b[39m \u001b[34mrecipes     \u001b[39m 1.0.8     \n",
      "\n",
      "── \u001b[1mConflicts\u001b[22m ───────────────────────────────────────── tidymodels_conflicts() ──\n",
      "\u001b[31m✖\u001b[39m \u001b[34mscales\u001b[39m::\u001b[32mdiscard()\u001b[39m masks \u001b[34mpurrr\u001b[39m::discard()\n",
      "\u001b[31m✖\u001b[39m \u001b[34mdplyr\u001b[39m::\u001b[32mfilter()\u001b[39m   masks \u001b[34mstats\u001b[39m::filter()\n",
      "\u001b[31m✖\u001b[39m \u001b[34mrecipes\u001b[39m::\u001b[32mfixed()\u001b[39m  masks \u001b[34mstringr\u001b[39m::fixed()\n",
      "\u001b[31m✖\u001b[39m \u001b[34mdplyr\u001b[39m::\u001b[32mlag()\u001b[39m      masks \u001b[34mstats\u001b[39m::lag()\n",
      "\u001b[31m✖\u001b[39m \u001b[34minfer\u001b[39m::\u001b[32mobserve()\u001b[39m  masks \u001b[34mshiny\u001b[39m::observe()\n",
      "\u001b[31m✖\u001b[39m \u001b[34myardstick\u001b[39m::\u001b[32mspec()\u001b[39m masks \u001b[34mreadr\u001b[39m::spec()\n",
      "\u001b[31m✖\u001b[39m \u001b[34mrecipes\u001b[39m::\u001b[32mstep()\u001b[39m   masks \u001b[34mstats\u001b[39m::step()\n",
      "\u001b[34m•\u001b[39m Use suppressPackageStartupMessages() to eliminate package startup messages\n",
      "\n",
      "\u001b[1m\u001b[22mNew names:\n",
      "\u001b[36m•\u001b[39m `1.0` -> `1.0...2`\n",
      "\u001b[36m•\u001b[39m `1.0` -> `1.0...3`\n",
      "\u001b[36m•\u001b[39m `1.0` -> `1.0...6`\n",
      "\u001b[36m•\u001b[39m `0.0` -> `0.0...9`\n",
      "\u001b[36m•\u001b[39m `0.0` -> `0.0...12`\n",
      "\u001b[1mRows: \u001b[22m\u001b[34m302\u001b[39m \u001b[1mColumns: \u001b[22m\u001b[34m14\u001b[39m\n",
      "\u001b[36m──\u001b[39m \u001b[1mColumn specification\u001b[22m \u001b[36m────────────────────────────────────────────────────────\u001b[39m\n",
      "\u001b[1mDelimiter:\u001b[22m \",\"\n",
      "\u001b[31mchr\u001b[39m  (2): 0.0...12, 6.0\n",
      "\u001b[32mdbl\u001b[39m (12): 63.0, 1.0...2, 1.0...3, 145.0, 233.0, 1.0...6, 2.0, 150.0, 0.0...9...\n",
      "\n",
      "\u001b[36mℹ\u001b[39m Use `spec()` to retrieve the full column specification for this data.\n",
      "\u001b[36mℹ\u001b[39m Specify the column types or set `show_col_types = FALSE` to quiet this message.\n"
     ]
    }
   ],
   "source": [
    "library(tidyverse)\n",
    "library(tidymodels)\n",
    "library(ggplot2)\n",
    "library(repr)\n",
    "library(RColorBrewer)\n",
    "data <- read_csv(\"https://github.com/matthewzizek/dsci-100-project/raw/main/data/processed.cleveland.data\") #loading data from original source"
   ]
  },
  {
   "cell_type": "code",
   "execution_count": 3,
   "id": "c153f4d6-6ef3-457d-b532-d304ad4ddf12",
   "metadata": {},
   "outputs": [
    {
     "data": {
      "text/html": [
       "<!doctype html>\n",
       "<html>\n",
       "\t<head>\n",
       "\t\t<meta charset=\"utf-8\">\n",
       "\t\t\n",
       "\t</head>\n",
       "\t<body>\n",
       "\t\t<strong>Table 1: </strong>\n",
       "\t</body>\n",
       "</html>\n"
      ],
      "text/plain": [
       "Shiny tags cannot be represented in plain text (need html)"
      ]
     },
     "metadata": {
      "text/html": {
       "isolated": true
      }
     },
     "output_type": "display_data"
    },
    {
     "data": {
      "text/html": [
       "<table class=\"dataframe\">\n",
       "<caption>A tibble: 6 × 3</caption>\n",
       "<thead>\n",
       "\t<tr><th scope=col>age</th><th scope=col>chol</th><th scope=col>diag</th></tr>\n",
       "\t<tr><th scope=col>&lt;dbl&gt;</th><th scope=col>&lt;dbl&gt;</th><th scope=col>&lt;dbl&gt;</th></tr>\n",
       "</thead>\n",
       "<tbody>\n",
       "\t<tr><td>67</td><td>286</td><td>2</td></tr>\n",
       "\t<tr><td>67</td><td>229</td><td>1</td></tr>\n",
       "\t<tr><td>37</td><td>250</td><td>0</td></tr>\n",
       "\t<tr><td>41</td><td>204</td><td>0</td></tr>\n",
       "\t<tr><td>56</td><td>236</td><td>0</td></tr>\n",
       "\t<tr><td>62</td><td>268</td><td>3</td></tr>\n",
       "</tbody>\n",
       "</table>\n"
      ],
      "text/latex": [
       "A tibble: 6 × 3\n",
       "\\begin{tabular}{lll}\n",
       " age & chol & diag\\\\\n",
       " <dbl> & <dbl> & <dbl>\\\\\n",
       "\\hline\n",
       "\t 67 & 286 & 2\\\\\n",
       "\t 67 & 229 & 1\\\\\n",
       "\t 37 & 250 & 0\\\\\n",
       "\t 41 & 204 & 0\\\\\n",
       "\t 56 & 236 & 0\\\\\n",
       "\t 62 & 268 & 3\\\\\n",
       "\\end{tabular}\n"
      ],
      "text/markdown": [
       "\n",
       "A tibble: 6 × 3\n",
       "\n",
       "| age &lt;dbl&gt; | chol &lt;dbl&gt; | diag &lt;dbl&gt; |\n",
       "|---|---|---|\n",
       "| 67 | 286 | 2 |\n",
       "| 67 | 229 | 1 |\n",
       "| 37 | 250 | 0 |\n",
       "| 41 | 204 | 0 |\n",
       "| 56 | 236 | 0 |\n",
       "| 62 | 268 | 3 |\n",
       "\n"
      ],
      "text/plain": [
       "  age chol diag\n",
       "1 67  286  2   \n",
       "2 67  229  1   \n",
       "3 37  250  0   \n",
       "4 41  204  0   \n",
       "5 56  236  0   \n",
       "6 62  268  3   "
      ]
     },
     "metadata": {},
     "output_type": "display_data"
    },
    {
     "data": {
      "text/html": [
       "<!doctype html>\n",
       "<html>\n",
       "\t<head>\n",
       "\t\t<meta charset=\"utf-8\">\n",
       "\t\t\n",
       "\t</head>\n",
       "\t<body>\n",
       "\t\t<strong>Table 2: </strong>\n",
       "\t</body>\n",
       "</html>\n"
      ],
      "text/plain": [
       "Shiny tags cannot be represented in plain text (need html)"
      ]
     },
     "metadata": {
      "text/html": {
       "isolated": true
      }
     },
     "output_type": "display_data"
    },
    {
     "data": {
      "text/html": [
       "<table class=\"dataframe\">\n",
       "<caption>A tibble: 6 × 3</caption>\n",
       "<thead>\n",
       "\t<tr><th scope=col>age</th><th scope=col>chol</th><th scope=col>diag</th></tr>\n",
       "\t<tr><th scope=col>&lt;dbl&gt;</th><th scope=col>&lt;dbl&gt;</th><th scope=col>&lt;dbl&gt;</th></tr>\n",
       "</thead>\n",
       "<tbody>\n",
       "\t<tr><td>57</td><td>241</td><td>1</td></tr>\n",
       "\t<tr><td>45</td><td>264</td><td>1</td></tr>\n",
       "\t<tr><td>68</td><td>193</td><td>2</td></tr>\n",
       "\t<tr><td>57</td><td>131</td><td>3</td></tr>\n",
       "\t<tr><td>57</td><td>236</td><td>1</td></tr>\n",
       "\t<tr><td>38</td><td>175</td><td>0</td></tr>\n",
       "</tbody>\n",
       "</table>\n"
      ],
      "text/latex": [
       "A tibble: 6 × 3\n",
       "\\begin{tabular}{lll}\n",
       " age & chol & diag\\\\\n",
       " <dbl> & <dbl> & <dbl>\\\\\n",
       "\\hline\n",
       "\t 57 & 241 & 1\\\\\n",
       "\t 45 & 264 & 1\\\\\n",
       "\t 68 & 193 & 2\\\\\n",
       "\t 57 & 131 & 3\\\\\n",
       "\t 57 & 236 & 1\\\\\n",
       "\t 38 & 175 & 0\\\\\n",
       "\\end{tabular}\n"
      ],
      "text/markdown": [
       "\n",
       "A tibble: 6 × 3\n",
       "\n",
       "| age &lt;dbl&gt; | chol &lt;dbl&gt; | diag &lt;dbl&gt; |\n",
       "|---|---|---|\n",
       "| 57 | 241 | 1 |\n",
       "| 45 | 264 | 1 |\n",
       "| 68 | 193 | 2 |\n",
       "| 57 | 131 | 3 |\n",
       "| 57 | 236 | 1 |\n",
       "| 38 | 175 | 0 |\n",
       "\n"
      ],
      "text/plain": [
       "  age chol diag\n",
       "1 57  241  1   \n",
       "2 45  264  1   \n",
       "3 68  193  2   \n",
       "4 57  131  3   \n",
       "5 57  236  1   \n",
       "6 38  175  0   "
      ]
     },
     "metadata": {},
     "output_type": "display_data"
    }
   ],
   "source": [
    "cleveland <- data |>\n",
    "  select(1, 5, 14) |>\n",
    "  rename(age = 1, chol = 2, diag = 3)\n",
    "# wrangle and cleans data from original format into necessary format\n",
    "\n",
    "strong(\"Table 1: \")\n",
    "head(cleveland)\n",
    "\n",
    "strong(\"Table 2: \")\n",
    "tail(cleveland)"
   ]
  },
  {
   "cell_type": "code",
   "execution_count": 7,
   "id": "ac0c331a-674a-488d-8113-22ec23c0f5dc",
   "metadata": {},
   "outputs": [
    {
     "data": {
      "text/html": [
       "<!doctype html>\n",
       "<html>\n",
       "\t<head>\n",
       "\t\t<meta charset=\"utf-8\">\n",
       "\t\t\n",
       "\t</head>\n",
       "\t<body>\n",
       "\t\t<strong>Table 3: </strong>\n",
       "\t</body>\n",
       "</html>\n"
      ],
      "text/plain": [
       "Shiny tags cannot be represented in plain text (need html)"
      ]
     },
     "metadata": {
      "text/html": {
       "isolated": true
      }
     },
     "output_type": "display_data"
    },
    {
     "data": {
      "text/html": [
       "<table class=\"dataframe\">\n",
       "<caption>A tibble: 6 × 3</caption>\n",
       "<thead>\n",
       "\t<tr><th scope=col>age</th><th scope=col>chol</th><th scope=col>diag</th></tr>\n",
       "\t<tr><th scope=col>&lt;fct&gt;</th><th scope=col>&lt;fct&gt;</th><th scope=col>&lt;fct&gt;</th></tr>\n",
       "</thead>\n",
       "<tbody>\n",
       "\t<tr><td>37</td><td>250</td><td>0</td></tr>\n",
       "\t<tr><td>56</td><td>236</td><td>0</td></tr>\n",
       "\t<tr><td>44</td><td>263</td><td>0</td></tr>\n",
       "\t<tr><td>54</td><td>239</td><td>0</td></tr>\n",
       "\t<tr><td>64</td><td>211</td><td>0</td></tr>\n",
       "\t<tr><td>58</td><td>283</td><td>0</td></tr>\n",
       "</tbody>\n",
       "</table>\n"
      ],
      "text/latex": [
       "A tibble: 6 × 3\n",
       "\\begin{tabular}{lll}\n",
       " age & chol & diag\\\\\n",
       " <fct> & <fct> & <fct>\\\\\n",
       "\\hline\n",
       "\t 37 & 250 & 0\\\\\n",
       "\t 56 & 236 & 0\\\\\n",
       "\t 44 & 263 & 0\\\\\n",
       "\t 54 & 239 & 0\\\\\n",
       "\t 64 & 211 & 0\\\\\n",
       "\t 58 & 283 & 0\\\\\n",
       "\\end{tabular}\n"
      ],
      "text/markdown": [
       "\n",
       "A tibble: 6 × 3\n",
       "\n",
       "| age &lt;fct&gt; | chol &lt;fct&gt; | diag &lt;fct&gt; |\n",
       "|---|---|---|\n",
       "| 37 | 250 | 0 |\n",
       "| 56 | 236 | 0 |\n",
       "| 44 | 263 | 0 |\n",
       "| 54 | 239 | 0 |\n",
       "| 64 | 211 | 0 |\n",
       "| 58 | 283 | 0 |\n",
       "\n"
      ],
      "text/plain": [
       "  age chol diag\n",
       "1 37  250  0   \n",
       "2 56  236  0   \n",
       "3 44  263  0   \n",
       "4 54  239  0   \n",
       "5 64  211  0   \n",
       "6 58  283  0   "
      ]
     },
     "metadata": {},
     "output_type": "display_data"
    },
    {
     "data": {
      "text/html": [
       "<!doctype html>\n",
       "<html>\n",
       "\t<head>\n",
       "\t\t<meta charset=\"utf-8\">\n",
       "\t\t\n",
       "\t</head>\n",
       "\t<body>\n",
       "\t\t<strong>Table 4: </strong>\n",
       "\t</body>\n",
       "</html>\n"
      ],
      "text/plain": [
       "Shiny tags cannot be represented in plain text (need html)"
      ]
     },
     "metadata": {
      "text/html": {
       "isolated": true
      }
     },
     "output_type": "display_data"
    },
    {
     "data": {
      "text/html": [
       "<table class=\"dataframe\">\n",
       "<caption>A tibble: 6 × 3</caption>\n",
       "<thead>\n",
       "\t<tr><th scope=col>age</th><th scope=col>chol</th><th scope=col>diag</th></tr>\n",
       "\t<tr><th scope=col>&lt;fct&gt;</th><th scope=col>&lt;fct&gt;</th><th scope=col>&lt;fct&gt;</th></tr>\n",
       "</thead>\n",
       "<tbody>\n",
       "\t<tr><td>53</td><td>282</td><td>3</td></tr>\n",
       "\t<tr><td>54</td><td>286</td><td>3</td></tr>\n",
       "\t<tr><td>52</td><td>212</td><td>3</td></tr>\n",
       "\t<tr><td>55</td><td>205</td><td>3</td></tr>\n",
       "\t<tr><td>59</td><td>176</td><td>3</td></tr>\n",
       "\t<tr><td>57</td><td>131</td><td>3</td></tr>\n",
       "</tbody>\n",
       "</table>\n"
      ],
      "text/latex": [
       "A tibble: 6 × 3\n",
       "\\begin{tabular}{lll}\n",
       " age & chol & diag\\\\\n",
       " <fct> & <fct> & <fct>\\\\\n",
       "\\hline\n",
       "\t 53 & 282 & 3\\\\\n",
       "\t 54 & 286 & 3\\\\\n",
       "\t 52 & 212 & 3\\\\\n",
       "\t 55 & 205 & 3\\\\\n",
       "\t 59 & 176 & 3\\\\\n",
       "\t 57 & 131 & 3\\\\\n",
       "\\end{tabular}\n"
      ],
      "text/markdown": [
       "\n",
       "A tibble: 6 × 3\n",
       "\n",
       "| age &lt;fct&gt; | chol &lt;fct&gt; | diag &lt;fct&gt; |\n",
       "|---|---|---|\n",
       "| 53 | 282 | 3 |\n",
       "| 54 | 286 | 3 |\n",
       "| 52 | 212 | 3 |\n",
       "| 55 | 205 | 3 |\n",
       "| 59 | 176 | 3 |\n",
       "| 57 | 131 | 3 |\n",
       "\n"
      ],
      "text/plain": [
       "  age chol diag\n",
       "1 53  282  3   \n",
       "2 54  286  3   \n",
       "3 52  212  3   \n",
       "4 55  205  3   \n",
       "5 59  176  3   \n",
       "6 57  131  3   "
      ]
     },
     "metadata": {},
     "output_type": "display_data"
    },
    {
     "data": {
      "text/html": [
       "<!doctype html>\n",
       "<html>\n",
       "\t<head>\n",
       "\t\t<meta charset=\"utf-8\">\n",
       "\t\t\n",
       "\t</head>\n",
       "\t<body>\n",
       "\t\t<strong>Table 5: </strong>\n",
       "\t</body>\n",
       "</html>\n"
      ],
      "text/plain": [
       "Shiny tags cannot be represented in plain text (need html)"
      ]
     },
     "metadata": {
      "text/html": {
       "isolated": true
      }
     },
     "output_type": "display_data"
    },
    {
     "ename": "ERROR",
     "evalue": "\u001b[1m\u001b[33mError\u001b[39m in `step_scale()`:\u001b[22m\n\u001b[1mCaused by error in `prep()`:\u001b[22m\n\u001b[33m!\u001b[39m All columns selected for the step should be double, or integer.\n",
     "output_type": "error",
     "traceback": [
      "\u001b[1m\u001b[33mError\u001b[39m in `step_scale()`:\u001b[22m\n\u001b[1mCaused by error in `prep()`:\u001b[22m\n\u001b[33m!\u001b[39m All columns selected for the step should be double, or integer.\nTraceback:\n",
      "1. prep(step_center(step_scale(cleveland_recipe, all_predictors()), \n .     all_predictors()))",
      "2. prep.recipe(step_center(step_scale(cleveland_recipe, all_predictors()), \n .     all_predictors()))",
      "3. recipes_error_context(prep(x$steps[[i]], training = training, \n .     info = x$term_info), step_name = class(x$steps[[i]])[[1L]])",
      "4. withCallingHandlers(expr = force(expr), error = function(cnd) {\n .     stop_recipes_step(call = call(step_name), parent = cnd)\n . })",
      "5. force(expr)",
      "6. prep(x$steps[[i]], training = training, info = x$term_info)",
      "7. prep.step_scale(x$steps[[i]], training = training, info = x$term_info)",
      "8. check_type(training[, col_names], types = c(\"double\", \"integer\"))",
      "9. rlang::abort(paste0(\"All columns selected for the step\", \" should be \", \n .     label, \".\"), call = call)",
      "10. signal_abort(cnd, .file)",
      "11. signalCondition(cnd)",
      "12. (function (cnd) \n  . {\n  .     stop_recipes_step(call = call(step_name), parent = cnd)\n  . })(structure(list(message = \"All columns selected for the step should be double, or integer.\", \n  .     trace = structure(list(call = list(IRkernel::main(), kernel$run(), \n  .         handle_shell(), executor$execute(msg), tryCatch(evaluate(request$content$code, \n  .             envir = .GlobalEnv, output_handler = oh, stop_on_error = 1L), \n  .             interrupt = function(cond) {\n  .                 log_debug(\"Interrupt during execution\")\n  .                 interrupted <<- TRUE\n  .             }, error = .self$handle_error), tryCatchList(expr, \n  .             classes, parentenv, handlers), tryCatchOne(tryCatchList(expr, \n  .             names[-nh], parentenv, handlers[-nh]), names[nh], \n  .             parentenv, handlers[[nh]]), doTryCatch(return(expr), \n  .             name, parentenv, handler), tryCatchList(expr, names[-nh], \n  .             parentenv, handlers[-nh]), tryCatchOne(expr, names, \n  .             parentenv, handlers[[1L]]), doTryCatch(return(expr), \n  .             name, parentenv, handler), evaluate(request$content$code, \n  .             envir = .GlobalEnv, output_handler = oh, stop_on_error = 1L), \n  .         evaluate_call(expr, parsed$src[[i]], envir = envir, enclos = enclos, \n  .             debug = debug, last = i == length(out), use_try = stop_on_error != \n  .                 2L, keep_warning = keep_warning, keep_message = keep_message, \n  .             log_echo = log_echo, log_warning = log_warning, output_handler = output_handler, \n  .             include_timing = include_timing), timing_fn(handle(ev <- withCallingHandlers(withVisible(eval_with_user_handlers(expr, \n  .             envir, enclos, user_handlers)), warning = wHandler, \n  .             error = eHandler, message = mHandler))), handle(ev <- withCallingHandlers(withVisible(eval_with_user_handlers(expr, \n  .             envir, enclos, user_handlers)), warning = wHandler, \n  .             error = eHandler, message = mHandler)), try(f, silent = TRUE), \n  .         tryCatch(expr, error = function(e) {\n  .             call <- conditionCall(e)\n  .             if (!is.null(call)) {\n  .                 if (identical(call[[1L]], quote(doTryCatch))) \n  .                   call <- sys.call(-4L)\n  .                 dcall <- deparse(call, nlines = 1L)\n  .                 prefix <- paste(\"Error in\", dcall, \": \")\n  .                 LONG <- 75L\n  .                 sm <- strsplit(conditionMessage(e), \"\\n\")[[1L]]\n  .                 w <- 14L + nchar(dcall, type = \"w\") + nchar(sm[1L], \n  .                   type = \"w\")\n  .                 if (is.na(w)) \n  .                   w <- 14L + nchar(dcall, type = \"b\") + nchar(sm[1L], \n  .                     type = \"b\")\n  .                 if (w > LONG) \n  .                   prefix <- paste0(prefix, \"\\n  \")\n  .             }\n  .             else prefix <- \"Error : \"\n  .             msg <- paste0(prefix, conditionMessage(e), \"\\n\")\n  .             .Internal(seterrmessage(msg[1L]))\n  .             if (!silent && isTRUE(getOption(\"show.error.messages\"))) {\n  .                 cat(msg, file = outFile)\n  .                 .Internal(printDeferredWarnings())\n  .             }\n  .             invisible(structure(msg, class = \"try-error\", condition = e))\n  .         }), tryCatchList(expr, classes, parentenv, handlers), \n  .         tryCatchOne(expr, names, parentenv, handlers[[1L]]), \n  .         doTryCatch(return(expr), name, parentenv, handler), withCallingHandlers(withVisible(eval_with_user_handlers(expr, \n  .             envir, enclos, user_handlers)), warning = wHandler, \n  .             error = eHandler, message = mHandler), withVisible(eval_with_user_handlers(expr, \n  .             envir, enclos, user_handlers)), eval_with_user_handlers(expr, \n  .             envir, enclos, user_handlers), eval(expr, envir, \n  .             enclos), eval(expr, envir, enclos), prep(step_center(step_scale(cleveland_recipe, \n  .             all_predictors()), all_predictors())), prep.recipe(step_center(step_scale(cleveland_recipe, \n  .             all_predictors()), all_predictors())), recipes_error_context(prep(x$steps[[i]], \n  .             training = training, info = x$term_info), step_name = class(x$steps[[i]])[[1L]]), \n  .         withCallingHandlers(expr = force(expr), error = function(cnd) {\n  .             stop_recipes_step(call = call(step_name), parent = cnd)\n  .         }), force(expr), prep(x$steps[[i]], training = training, \n  .             info = x$term_info), prep.step_scale(x$steps[[i]], \n  .             training = training, info = x$term_info), check_type(training[, \n  .             col_names], types = c(\"double\", \"integer\")), rlang::abort(paste0(\"All columns selected for the step\", \n  .             \" should be \", label, \".\"), call = call)), parent = c(0L, \n  .     1L, 2L, 3L, 4L, 5L, 6L, 7L, 6L, 9L, 10L, 4L, 12L, 13L, 13L, \n  .     15L, 16L, 17L, 18L, 19L, 13L, 13L, 13L, 23L, 24L, 0L, 0L, \n  .     27L, 28L, 28L, 27L, 27L, 32L, 33L), visible = c(TRUE, TRUE, \n  .     TRUE, TRUE, TRUE, TRUE, TRUE, TRUE, TRUE, TRUE, TRUE, TRUE, \n  .     TRUE, TRUE, TRUE, TRUE, TRUE, TRUE, TRUE, TRUE, TRUE, TRUE, \n  .     TRUE, TRUE, TRUE, TRUE, TRUE, TRUE, TRUE, TRUE, TRUE, TRUE, \n  .     FALSE, FALSE), namespace = c(\"IRkernel\", NA, \"IRkernel\", \n  .     NA, \"base\", \"base\", \"base\", \"base\", \"base\", \"base\", \"base\", \n  .     \"evaluate\", \"evaluate\", \"evaluate\", \"evaluate\", \"base\", \"base\", \n  .     \"base\", \"base\", \"base\", \"base\", \"base\", \"evaluate\", \"base\", \n  .     \"base\", \"recipes\", \"recipes\", \"recipes\", \"base\", \"base\", \n  .     \"recipes\", \"recipes\", \"recipes\", \"rlang\"), scope = c(\"::\", \n  .     NA, \"local\", NA, \"::\", \"local\", \"local\", \"local\", \"local\", \n  .     \"local\", \"local\", \"::\", \":::\", \"local\", \"local\", \"::\", \"::\", \n  .     \"local\", \"local\", \"local\", \"::\", \"::\", \":::\", \"::\", \"::\", \n  .     \"::\", \":::\", \":::\", \"::\", \"::\", \"::\", \":::\", \"::\", \"::\"), \n  .         error_frame = c(FALSE, FALSE, FALSE, FALSE, FALSE, FALSE, \n  .         FALSE, FALSE, FALSE, FALSE, FALSE, FALSE, FALSE, FALSE, \n  .         FALSE, FALSE, FALSE, FALSE, FALSE, FALSE, FALSE, FALSE, \n  .         FALSE, FALSE, FALSE, FALSE, FALSE, FALSE, FALSE, FALSE, \n  .         FALSE, TRUE, FALSE, FALSE)), row.names = c(NA, -34L), version = 2L, class = c(\"rlang_trace\", \n  .     \"rlib_trace\", \"tbl\", \"data.frame\")), parent = NULL, rlang = list(\n  .         inherit = TRUE), call = prep(x$steps[[i]], training = training, \n  .         info = x$term_info)), class = c(\"rlang_error\", \"error\", \n  . \"condition\")))",
      "13. stop_recipes_step(call = call(step_name), parent = cnd)",
      "14. stop_recipes(class = \"recipes_error_step\", call = call, parent = parent)",
      "15. rlang::abort(class = c(class, \"recipes_error\"), call = call, \n  .     parent = parent)",
      "16. signal_abort(cnd, .file)"
     ]
    }
   ],
   "source": [
    "set.seed(1)\n",
    "\n",
    "# Splitting the data frame into training and testing datasets\n",
    "cleveland_split <- initial_split(cleveland, prop = 0.75, strata = diag)\n",
    "\n",
    "cleveland_train <- training(cleveland_split)\n",
    "cleveland_test <- testing(cleveland_split)\n",
    "\n",
    "strong(\"Table 3: \")\n",
    "head(cleveland_train)\n",
    "strong(\"Table 4: \")\n",
    "tail(cleveland_train)\n",
    "\n",
    "# Creating a recipe\n",
    "cleveland_recipe <- recipe(diag ~ ., data = cleveland_train)\n",
    "\n",
    "strong(\"Table 5: \")\n",
    "cleveland_recipe <- cleveland_recipe |>\n",
    "    step_scale(all_predictors()) |>\n",
    "    step_center(all_predictors()) |>\n",
    "    prep() \n",
    "cleveland_recipe\n",
    "\n",
    "scaled_cleveland <- bake(cleveland_recipe, cleveland_train)\n",
    "scaled_cleveland\n",
    "\n",
    "cleveland$age <- factor(cleveland$age)\n",
    "cleveland$chol <- factor(cleveland$chol)\n",
    "cleveland$diag <- factor(cleveland$diag)\n",
    "\n",
    "#cleveland2 <- as.factor(cleveland2)\n",
    "\n",
    "# cleans and renames columns\n",
    "#for(i in 1:nrow(cleveland2)){\n",
    "   # if(cleveland2[i, 3] != \"0\") {\n",
    "   #     cleveland2[i, 3] <- \"presence of disease\" \n",
    "    #    } else {\n",
    "     #   cleveland2[i, 3] <- \"no disease\"\n",
    "    #}\n",
    "    #}\n",
    "\n",
    "# summary of the dataset\n",
    "#strong(\"Table 5: \")\n",
    "#head(cleveland2)\n",
    "\n",
    "#strong(\"Table 6: \")\n",
    "#tail(cleveland2)"
   ]
  },
  {
   "cell_type": "code",
   "execution_count": 5,
   "id": "34ca327f-94db-42b3-ac82-2a543b83f006",
   "metadata": {},
   "outputs": [
    {
     "data": {
      "text/plain": [
       "K-Nearest Neighbor Model Specification (classification)\n",
       "\n",
       "Main Arguments:\n",
       "  neighbors = tune()\n",
       "  weight_func = rectangular\n",
       "\n",
       "Computational engine: kknn \n"
      ]
     },
     "metadata": {},
     "output_type": "display_data"
    }
   ],
   "source": [
    "#Creating a knn model\n",
    "knn_spec <- nearest_neighbor(weight_func = \"rectangular\",\n",
    "                            neighbors = tune()) |>\n",
    "    set_engine(\"kknn\") |>\n",
    "    set_mode(\"classification\")\n",
    "knn_spec"
   ]
  },
  {
   "cell_type": "code",
   "execution_count": 6,
   "id": "b0d94e19-4150-45dc-b616-12c387b10a15",
   "metadata": {},
   "outputs": [
    {
     "ename": "ERROR",
     "evalue": "\u001b[1m\u001b[33mError\u001b[39m in `check_outcome()`:\u001b[22m\n\u001b[33m!\u001b[39m For a classification model, the outcome should be a `factor`, not a `numeric`.\n",
     "output_type": "error",
     "traceback": [
      "\u001b[1m\u001b[33mError\u001b[39m in `check_outcome()`:\u001b[22m\n\u001b[33m!\u001b[39m For a classification model, the outcome should be a `factor`, not a `numeric`.\nTraceback:\n",
      "1. fit(add_model(add_recipe(workflow(), cleveland_recipe), knn_spec), \n .     data = cleveland_train)",
      "2. fit.workflow(add_model(add_recipe(workflow(), cleveland_recipe), \n .     knn_spec), data = cleveland_train)",
      "3. .fit_model(workflow, control)",
      "4. fit(action_model, workflow = workflow, control = control)",
      "5. fit.action_model(action_model, workflow = workflow, control = control)",
      "6. fit_from_xy(spec, mold, case_weights, control_parsnip)",
      "7. fit_xy(spec, x = mold$predictors, y = mold$outcomes, case_weights = case_weights, \n .     control = control_parsnip)",
      "8. fit_xy.model_spec(spec, x = mold$predictors, y = mold$outcomes, \n .     case_weights = case_weights, control = control_parsnip)",
      "9. xy_form(object = object, env = eval_env, control = control, ...)",
      "10. check_outcome(env$y, object)",
      "11. abort(paste0(\"For a classification model, the outcome should be a `factor`, \", \n  .     \"not a `\", cls, \"`.\"))",
      "12. signal_abort(cnd, .file)"
     ]
    }
   ],
   "source": [
    "#Running knn model on testing\n",
    "knn_fit <- workflow() |>\n",
    "    add_recipe(cleveland_recipe) |>\n",
    "    add_model(knn_spec) |>\n",
    "    fit(data = cleveland_train)\n",
    "knn_fit"
   ]
  },
  {
   "cell_type": "code",
   "execution_count": null,
   "id": "77771855-7f4a-481e-a3fc-ce49e530bf4b",
   "metadata": {},
   "outputs": [],
   "source": [
    "cleveland_test_predictions <- predict(knn_fit, cleveland_test) |>\n",
    "    bind_cols(cleveland_test)\n",
    "\n",
    "cleveland_test_predictions |>\n",
    "    metrics(truth = diag, estimate = .pred_class) |>\n",
    "    filter(.metric == \"accuracy\")"
   ]
  },
  {
   "cell_type": "code",
   "execution_count": null,
   "id": "c90f609b-fc4c-4cbf-8605-2779b5c8627c",
   "metadata": {},
   "outputs": [],
   "source": [
    "#Creating a scatter plot using training data\n",
    "cleveland_plot <- cleveland2 |>\n",
    "                    ggplot(aes(x = age, y = chol, color = as_factor(diag))) +\n",
    "                    geom_point() +\n",
    "                    labs(x = \"Age (years)\", y = \"Serum Cholesterol (mg/dl)\", \n",
    "                         title = \"Cholesterol levels and the Age of Heart Diseased Patients\",\n",
    "                        color = \"diagnosis\") +\n",
    "                    theme(text = element_text(size = 13)) +\n",
    "                    theme(plot.title=element_text(hjust = 0.5)) +\n",
    "                    scale_color_brewer(palette = \"Paired\")\n",
    "cleveland_plot"
   ]
  },
  {
   "cell_type": "markdown",
   "id": "1082c66a-9a3f-4dfa-8185-4128f531db96",
   "metadata": {},
   "source": [
    "Figure 1. We chose scatterplots because it makes it easy to identify the relationship between two variables. We combined all types of patients that share a common characteristic of either having the disease or not. This exploratory analysis will help address our question of “Can age and cholesterol levels be used to predict if an individual has a heart disease?” This is shown by separating the two variables into two colours. These two variables make clear predictors since they visibly show trends of age concerning cholesterol levels. "
   ]
  },
  {
   "cell_type": "markdown",
   "id": "57a6f459-9b13-42c4-a864-fc0f423cef72",
   "metadata": {},
   "source": [
    "## Methods\n",
    "\n",
    "When wrangling and cleaning the data provided, we selected the relevent columns (1, 5, 14) using the `select` function and renamed them using `rename` to match the data that is being presented; diag represents the diagnosis of heart disease consisting of values of 0 means < 50% diameter narrowing (absence of disease), and 1, 2, and 3 means > 50% diameter narrowing (presence of disease). Cholesterol is in mg/dl and age in years. Using the `head` and `tail` functions, we visualized a portion of the data in table format. We applied `initial_split()` to split our data frame into 75% training data and 25% testing data. We only used the training data for analysis to prevent overfitting. To conduct our data analysis, we plotted the cholesterol levels against the age of the patients using a scatter plot, and then coloured the data points based on the presence of cardiovascular disease in the patient. Using cholesterol as a predictor, we then analyzed the effect that cholesterol levels have on the development of cardiovascular disease. "
   ]
  },
  {
   "cell_type": "markdown",
   "id": "076a43e6-bbeb-4502-bc61-738598a8f187",
   "metadata": {},
   "source": [
    "## Discussion\n",
    "\n",
    "In summary, the results from our exploratory data analysis visualization (Fig. 1) showed that there is a weakly positive relationship between high cholesterol levels and age, in terms of the presence of heart disease. It was observed that the majority of data points classified as ‘presence of disease’ (dark blue points) in the patient diagnosis were concentrated towards the upper right corner of the scatterplot, where patients generally aged between 50 years and 70 years, and cholesterol levels were greater than 200 mg/dl. Additionally, the ‘no disease’ patient diagnosis data points (shown in light blue) followed a pattern of being more populated towards the bottom left corner of the scatterplot, where most patients were aged less than 50 years and had lower cholesterol levels relative to the ‘presence of disease’ classified patients. Therefore, we were able to use the Cleveland heart disease dataset from the UC Irvine (UCI) Machine Learning Repository to answer our predictive question “Can age and cholesterol levels be used to predict if an individual has a heart disease”.\n",
    "\n",
    "This correlation was what we expected to find as prior literature indicated that cholesterol levels greater than 200 mg/dl and increasing age are both important attributes that can predict the presence of heart disease (Karthick et al., 2022).\n",
    "\n",
    "These such findings highlight the adverse effects of high cholesterol in conjunction with age on the human heart. Thus, these results will hopefully encourage individuals to adopt behaviours conducive to maintaining lower cholesterol levels in their daily lives to lower the possibility of heart disease at a young age.\n",
    "\n",
    "In conclusion, these findings may lead to important future questions such as ‘What could someone do/avoid to decrease cholesterol levels?’, ‘What other factors may contribute to a higher risk of heart disease?’, and ‘What other short and long-term physical effects can be associated with cholesterol?’."
   ]
  },
  {
   "cell_type": "markdown",
   "id": "a2c58c50-f77b-46a5-8af7-ee0c609a5205",
   "metadata": {},
   "source": [
    "## Bibliography\n",
    "Janosi, A., Steinbrunn, W., Pfisterer, M., & Detrano, R. (1988). Heart Disease. UCI Machine Learning Repository. https://doi.org/10.24432/C52P4X\n",
    "\n",
    "Karthick, K., Aruna, S. K., Samikannu, R., Kuppusamy, R., Teekaraman, Y., & Thelkar, A. R. (2022). Implementation of a Heart Disease Risk Prediction Model Using Machine Learning. Computational and mathematical methods in medicine, 2022, 6517716. https://doi.org/10.1155/2022/6517716"
   ]
  }
 ],
 "metadata": {
  "kernelspec": {
   "display_name": "R",
   "language": "R",
   "name": "ir"
  },
  "language_info": {
   "codemirror_mode": "r",
   "file_extension": ".r",
   "mimetype": "text/x-r-source",
   "name": "R",
   "pygments_lexer": "r",
   "version": "4.3.1"
  }
 },
 "nbformat": 4,
 "nbformat_minor": 5
}
